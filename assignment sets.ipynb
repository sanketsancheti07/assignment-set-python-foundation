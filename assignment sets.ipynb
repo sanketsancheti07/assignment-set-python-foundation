{
 "cells": [
  {
   "cell_type": "markdown",
   "id": "1eb0b06a",
   "metadata": {},
   "source": [
    "# Q.1"
   ]
  },
  {
   "cell_type": "markdown",
   "id": "7bc75dd0",
   "metadata": {},
   "source": [
    "set is a data structure use in python where we stored unordered collection of unique elements .That means we cannot stored repeated value as well as ordered elements in  a set"
   ]
  },
  {
   "cell_type": "markdown",
   "id": "5223859d",
   "metadata": {},
   "source": [
    "# Q.2"
   ]
  },
  {
   "cell_type": "markdown",
   "id": "6f7d40e5",
   "metadata": {},
   "source": [
    "To create a set we use curly braces and in it we stored the unordered unique elements"
   ]
  },
  {
   "cell_type": "code",
   "execution_count": 1,
   "id": "f5ede13b",
   "metadata": {},
   "outputs": [],
   "source": [
    "s = {1,2,3,4,5,'sanket'}"
   ]
  },
  {
   "cell_type": "code",
   "execution_count": 2,
   "id": "a490e887",
   "metadata": {},
   "outputs": [
    {
     "data": {
      "text/plain": [
       "{1, 2, 3, 4, 5, 'sanket'}"
      ]
     },
     "execution_count": 2,
     "metadata": {},
     "output_type": "execute_result"
    }
   ],
   "source": [
    "s"
   ]
  },
  {
   "cell_type": "markdown",
   "id": "2edb0cd0",
   "metadata": {},
   "source": [
    "# Q.3"
   ]
  },
  {
   "cell_type": "markdown",
   "id": "6f82014b",
   "metadata": {},
   "source": [
    "To add elements in a set we use add() function"
   ]
  },
  {
   "cell_type": "code",
   "execution_count": 6,
   "id": "ffe8d52a",
   "metadata": {},
   "outputs": [],
   "source": [
    "s.add(\"sancheti\")"
   ]
  },
  {
   "cell_type": "code",
   "execution_count": 7,
   "id": "80816119",
   "metadata": {},
   "outputs": [
    {
     "data": {
      "text/plain": [
       "{1, 2, 3, 4, 5, 'sancheti', 'sanket'}"
      ]
     },
     "execution_count": 7,
     "metadata": {},
     "output_type": "execute_result"
    }
   ],
   "source": [
    "s"
   ]
  },
  {
   "cell_type": "markdown",
   "id": "ab8c530e",
   "metadata": {},
   "source": [
    "# Q.4"
   ]
  },
  {
   "cell_type": "markdown",
   "id": "c560867e",
   "metadata": {},
   "source": [
    "To remove elements in a set we use remove() function"
   ]
  },
  {
   "cell_type": "code",
   "execution_count": 9,
   "id": "4cc61b84",
   "metadata": {},
   "outputs": [],
   "source": [
    "s.remove('sanket')"
   ]
  },
  {
   "cell_type": "code",
   "execution_count": 10,
   "id": "14dfa052",
   "metadata": {},
   "outputs": [
    {
     "data": {
      "text/plain": [
       "{1, 2, 3, 4, 5, 'sancheti'}"
      ]
     },
     "execution_count": 10,
     "metadata": {},
     "output_type": "execute_result"
    }
   ],
   "source": [
    "s"
   ]
  },
  {
   "cell_type": "markdown",
   "id": "bb9baf27",
   "metadata": {},
   "source": [
    "# Q.5"
   ]
  },
  {
   "cell_type": "code",
   "execution_count": 11,
   "id": "d17a111b",
   "metadata": {},
   "outputs": [
    {
     "data": {
      "text/plain": [
       "6"
      ]
     },
     "execution_count": 11,
     "metadata": {},
     "output_type": "execute_result"
    }
   ],
   "source": [
    "len(s)"
   ]
  },
  {
   "cell_type": "code",
   "execution_count": null,
   "id": "f54e9cea",
   "metadata": {},
   "outputs": [],
   "source": []
  }
 ],
 "metadata": {
  "kernelspec": {
   "display_name": "Python 3 (ipykernel)",
   "language": "python",
   "name": "python3"
  },
  "language_info": {
   "codemirror_mode": {
    "name": "ipython",
    "version": 3
   },
   "file_extension": ".py",
   "mimetype": "text/x-python",
   "name": "python",
   "nbconvert_exporter": "python",
   "pygments_lexer": "ipython3",
   "version": "3.9.16"
  }
 },
 "nbformat": 4,
 "nbformat_minor": 5
}
